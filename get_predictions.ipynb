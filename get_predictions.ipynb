{
 "cells": [
  {
   "cell_type": "code",
   "execution_count": 1,
   "id": "4f3703af-f622-4a3a-926f-31b15c8fac12",
   "metadata": {
    "tags": []
   },
   "outputs": [
    {
     "name": "stdout",
     "output_type": "stream",
     "text": [
      "SLEAP: 1.3.3\n",
      "TensorFlow: 2.7.0\n",
      "Numpy: 1.21.6\n",
      "Python: 3.7.12\n",
      "OS: Windows-10-10.0.22621-SP0\n"
     ]
    }
   ],
   "source": [
    "import numpy as np\n",
    "import h5py\n",
    "import os\n",
    "from glob import glob\n",
    "import sleap\n",
    "import matplotlib.pyplot as plt\n",
    "import pandas as pd\n",
    "from pathlib import Path\n",
    "import seaborn as sns\n",
    "from rich.progress import track\n",
    "\n",
    "\n",
    "sleap.versions()\n",
    "#sleap.use_cpu_only()\n",
    "sleap.disable_preallocation()"
   ]
  },
  {
   "cell_type": "code",
   "execution_count": 2,
   "id": "a4896f41-d4f8-48e8-8461-77c9a37e9997",
   "metadata": {
    "tags": []
   },
   "outputs": [],
   "source": [
    "def get_predictions(filename, subtype, predictor, overwrite=False):\n",
    "    preds_path = f\"{filename[:-4]}.{subtype}.predictions.slp\"\n",
    "    if Path(preds_path).exists() and not overwrite:\n",
    "        return sleap.load_file(preds_path)\n",
    "    else:\n",
    "        video = sleap.load_video(filename, dataset=\"vol\", channels_first=False)\n",
    "        predictions = predictor.predict(video)\n",
    "        predictions.save(preds_path)\n",
    "        return predictions\n"
   ]
  },
  {
   "cell_type": "code",
   "execution_count": 3,
   "id": "314a253f-2f88-4934-a6d4-691360ed7467",
   "metadata": {
    "tags": []
   },
   "outputs": [],
   "source": [
    "overwrite = False  # if False, load existing predictions from disk instead of re-saving\n",
    "n_imgs_expected = 72  # series with fewer or more images than this will be excluded from analysis (predictions will still be saved)\n",
    "\n",
    "model_path_centroid = r\"C:\\Users\\pbiobgh\\Desktop\\SLEAP\\SLEAP_pest_detection\\models\\231207_223058.centroid.n=71\"\n",
    "model_path_centered = r\"C:\\Users\\pbiobgh\\Desktop\\SLEAP\\SLEAP_pest_detection\\models\\231208_012539.centered_instance.n=71\"\n",
    "\n",
    "pred_name = \"thrip\"  # used to save or load predictions for each series\n",
    "\n",
    "data_folders = \"\"\"\n",
    "photos_12-08-2023\n",
    "\"\"\".strip().split()"
   ]
  },
  {
   "cell_type": "code",
   "execution_count": 4,
   "id": "59876ddb-d6a9-47da-b4b2-03639567b113",
   "metadata": {
    "tags": []
   },
   "outputs": [
    {
     "name": "stdout",
     "output_type": "stream",
     "text": [
      "Found 11 datasets\n"
     ]
    }
   ],
   "source": [
    "image_series = []\n",
    "for data_folder in data_folders:\n",
    "    image_series.extend([Path(p).as_posix() for p in glob(f\"{data_folder}/*.png\")])\n",
    "\n",
    "print(f\"Found {len(image_series):,} datasets\")"
   ]
  },
  {
   "cell_type": "code",
   "execution_count": 5,
   "id": "8d8469c1-0d26-4e08-b8cf-ecc303dbda80",
   "metadata": {
    "tags": []
   },
   "outputs": [],
   "source": [
    "predictor = sleap.load_model([model_path_centroid, model_path_centered], progress_reporting=\"none\")"
   ]
  },
  {
   "cell_type": "code",
   "execution_count": 6,
   "id": "e2590163-6756-4e66-9f2e-dcefce89fd4a",
   "metadata": {
    "tags": []
   },
   "outputs": [
    {
     "data": {
      "application/vnd.jupyter.widget-view+json": {
       "model_id": "f5e3b44d3f854d139a84dae06c1ee142",
       "version_major": 2,
       "version_minor": 0
      },
      "text/plain": [
       "Output()"
      ]
     },
     "metadata": {},
     "output_type": "display_data"
    },
    {
     "data": {
      "text/html": [
       "<pre style=\"white-space:pre;overflow-x:auto;line-height:normal;font-family:Menlo,'DejaVu Sans Mono',consolas,'Courier New',monospace\"></pre>\n"
      ],
      "text/plain": []
     },
     "metadata": {},
     "output_type": "display_data"
    },
    {
     "data": {
      "text/html": [
       "<pre style=\"white-space:pre;overflow-x:auto;line-height:normal;font-family:Menlo,'DejaVu Sans Mono',consolas,'Courier New',monospace\">\n",
       "</pre>\n"
      ],
      "text/plain": [
       "\n"
      ]
     },
     "metadata": {},
     "output_type": "display_data"
    }
   ],
   "source": [
    "for filename in track(image_series):\n",
    "    get_predictions(filename, pred_name, predictor, overwrite=overwrite)"
   ]
  }
 ],
 "metadata": {
  "kernelspec": {
   "display_name": "Python 3 (ipykernel)",
   "language": "python",
   "name": "python3"
  },
  "language_info": {
   "codemirror_mode": {
    "name": "ipython",
    "version": 3
   },
   "file_extension": ".py",
   "mimetype": "text/x-python",
   "name": "python",
   "nbconvert_exporter": "python",
   "pygments_lexer": "ipython3",
   "version": "3.7.12"
  }
 },
 "nbformat": 4,
 "nbformat_minor": 5
}

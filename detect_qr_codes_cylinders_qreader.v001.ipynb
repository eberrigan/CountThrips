{
 "cells": [
  {
   "cell_type": "code",
   "execution_count": 1,
   "id": "70c5de66-e2c8-4f1e-8b75-48525fcf4d37",
   "metadata": {
    "tags": []
   },
   "outputs": [],
   "source": [
    "# ! pip install opencv-python"
   ]
  },
  {
   "cell_type": "code",
   "execution_count": 2,
   "id": "5ab1d845-b40e-4357-8757-c755357fcd02",
   "metadata": {
    "tags": []
   },
   "outputs": [],
   "source": [
    "# ! pip install pyzbar"
   ]
  },
  {
   "cell_type": "code",
   "execution_count": 3,
   "id": "1a8fd03d-989d-465e-970d-f51c38a4e97d",
   "metadata": {
    "tags": []
   },
   "outputs": [],
   "source": [
    "# ! pip install qreader\n",
    "# https://pypi.org/project/qreader/\n",
    "# YOLOv8 + pyzbar"
   ]
  },
  {
   "cell_type": "code",
   "execution_count": 4,
   "id": "105a4239-f68d-4bf4-81ee-9262de7d130c",
   "metadata": {
    "tags": []
   },
   "outputs": [],
   "source": [
    "import cv2\n",
    "import os\n",
    "import pandas as pd\n",
    "import matplotlib.pyplot as plt\n",
    "from pyzbar.pyzbar import decode\n",
    "from pathlib import Path\n",
    "from qreader import QReader"
   ]
  },
  {
   "cell_type": "code",
   "execution_count": 5,
   "id": "55857ded-fd4e-4269-b515-31010345518e",
   "metadata": {
    "tags": []
   },
   "outputs": [],
   "source": [
    "def apply_clahe(image_path, output_path, clip_limit=2.0, tile_grid_size=(8, 8)):\n",
    "    \"\"\"\n",
    "    Applies Contrast Limited Adaptive Histogram Equalization (CLAHE) to an image.\n",
    "\n",
    "    This function reads a grayscale image from the specified path, applies CLAHE normalization \n",
    "    with the given parameters, and saves the normalized image to the specified output path.\n",
    "\n",
    "    Parameters:\n",
    "    - image_path (str): Path to the input grayscale image.\n",
    "    - output_path (str): Path where the normalized image will be saved.\n",
    "    - clip_limit (float, optional): Threshold for contrast limiting. Defaults to 2.0.\n",
    "    - tile_grid_size (tuple, optional): Size of the grid for the CLAHE algorithm. Defaults to (8, 8).\n",
    "\n",
    "    Returns:\n",
    "    - str: Path to the saved normalized image.\n",
    "    \"\"\"\n",
    "    \n",
    "    # Read the image\n",
    "    image = cv2.imread(str(image_path), cv2.IMREAD_GRAYSCALE)  # CLAHE is typically applied to grayscale images\n",
    "\n",
    "    # Create a CLAHE object\n",
    "    clahe = cv2.createCLAHE(clipLimit=clip_limit, tileGridSize=tile_grid_size)\n",
    "\n",
    "    # Apply CLAHE normalization\n",
    "    clahe_img = clahe.apply(image)\n",
    "\n",
    "    # Save the normalized image\n",
    "    cv2.imwrite(str(output_path), clahe_img)\n",
    "\n",
    "    print(f\"CLAHE normalized image saved to {output_path}\")\n",
    "    return output_path"
   ]
  },
  {
   "cell_type": "code",
   "execution_count": 6,
   "id": "dd4cf6db-66d1-49fc-833e-5c19499ea642",
   "metadata": {
    "tags": []
   },
   "outputs": [],
   "source": [
    "def detect_qr_codes_in_folder(folder_path, output_dir, clip_limit):\n",
    "    \"\"\"\n",
    "    Detects QR codes in all images within a specified folder.\n",
    "\n",
    "    This function processes each image in the given folder by applying \n",
    "    Contrast Limited Adaptive Histogram Equalization (CLAHE) with the \n",
    "    specified clip limit. It then detects and decodes any QR codes present \n",
    "    in the processed image. The detected QR codes for each image are stored \n",
    "    in a dictionary and returned.\n",
    "\n",
    "    Parameters:\n",
    "    - folder_path (str): Path to the folder containing the images.\n",
    "    - output_dir (str): Directory where the processed images will be saved.\n",
    "    - clip_limit (float): Clip limit for the CLAHE algorithm.\n",
    "\n",
    "    Returns:\n",
    "    - dict: A dictionary where keys are the image file paths and values are \n",
    "            the detected QR codes data for each image.\n",
    "\n",
    "    Raises:\n",
    "    - ValueError: If the provided folder_path is not a valid directory.\n",
    "    \"\"\"\n",
    "    folder = Path(folder_path)\n",
    "    output_dir = Path(output_dir)\n",
    "    \n",
    "    if not output_dir.exists():\n",
    "        output_dir.mkdir(parents=True, exist_ok=True)\n",
    "        print(f\"Output directory '{output_dir}' created.\")\n",
    "    \n",
    "    # Ensure the provided path is a directory\n",
    "    if not folder.is_dir():\n",
    "        print(f\"Error: '{folder_path}' is not a valid directory.\")\n",
    "        return\n",
    "\n",
    "    print(f\"Scanning images in '{folder_path}' for QR codes...\")\n",
    "    \n",
    "    # Dictionary to store QR codes detected for each image\n",
    "    qr_codes_per_image = {}\n",
    "\n",
    "    for image_file in folder.iterdir():\n",
    "        # Check if the path is a file (to avoid subdirectories)\n",
    "        if image_file.is_file():\n",
    "            print(f\"Processing image: {image_file.name}\")\n",
    "            output_path = output_dir / image_file.name\n",
    "            print(f\"{output_path}\")\n",
    "            \n",
    "            # # Apply CLAHE to image with `clip_limit`\n",
    "            # image_clahe = apply_clahe(image_file, output_path, clip_limit=clip_limit)\n",
    "            \n",
    "            # # Get the image that contains the QR code\n",
    "            image = cv2.cvtColor(cv2.imread(image_file), cv2.COLOR_BGR2RGB)\n",
    "\n",
    "            # Read the image\n",
    "            # image = cv2.imread(str(image_clahe))\n",
    "\n",
    "            # Create a QReader instance\n",
    "            qreader = QReader()\n",
    "\n",
    "            # Use the detect_and_decode function to get the decoded QR data\n",
    "            qr_codes_data = qreader.detect_and_decode(image=image)\n",
    "\n",
    "            # Store the detected QR codes data in the dictionary\n",
    "            qr_codes_per_image[image_file] = qr_codes_data\n",
    "\n",
    "            if qr_codes_data:\n",
    "                print(f\"Detected {len(qr_codes_data)} QR code(s) in {image_file.name}\")\n",
    "                print(f\"QR codes found: {qr_codes_data}\")\n",
    "            else:\n",
    "                print(f\"No QR codes detected in {image_file.name}\")\n",
    "\n",
    "    print(f\"Finished scanning images in '{folder_path}'.\")\n",
    "    return qr_codes_per_image"
   ]
  },
  {
   "cell_type": "code",
   "execution_count": 7,
   "id": "04a0d2f5-8bfc-408a-ac18-be9cacb91a5e",
   "metadata": {
    "tags": []
   },
   "outputs": [
    {
     "data": {
      "text/plain": [
       "{'12.19.2023/iPhone 13 Images With Box App/Image31340.jpg': (None,)}"
      ]
     },
     "execution_count": 7,
     "metadata": {},
     "output_type": "execute_result"
    }
   ],
   "source": [
    "#use QReader to detect QR code in cylinder images\n",
    "\n",
    "image_file = r\"12.19.2023/iPhone 13 Images With Box App/Image31340.jpg\"\n",
    "\n",
    "# Read the image\n",
    "# image = cv2.imread(str(image_file))\n",
    "\n",
    "# # Get the image that contains the QR code\n",
    "image = cv2.cvtColor(cv2.imread(image_file), cv2.COLOR_BGR2RGB)\n",
    "qr_codes_per_image = {}\n",
    "\n",
    "# Create a QReader instance\n",
    "qreader = QReader()\n",
    "\n",
    "# Use the detect_and_decode function to get the decoded QR data\n",
    "qr_codes_data = qreader.detect_and_decode(image=image)\n",
    "\n",
    "# Store the detected QR codes data in the dictionary\n",
    "qr_codes_per_image[image_file] = qr_codes_data\n",
    "\n",
    "qr_codes_per_image"
   ]
  },
  {
   "cell_type": "code",
   "execution_count": 8,
   "id": "adb01707-e35d-4a33-848a-caedd064c030",
   "metadata": {
    "tags": []
   },
   "outputs": [],
   "source": [
    "# # Apply CLAHE with varying `clip_limit`\n",
    "\n",
    "# # Apply CLAHE then use QReader to detect QR code in cylinder images\n",
    "\n",
    "# image_file = \"2per_exposure_30000_water_360_slow/1.png\"\n",
    "# output_dir = Path(\"clahe_tests\")\n",
    "\n",
    "# clip_limit = 1\n",
    "\n",
    "# while clip_limit <= 50:\n",
    "\n",
    "#     output_path = output_dir / f\"{clip_limit}.png\"\n",
    "#     print(output_path)\n",
    "#     print(f\"clip_limit = {clip_limit}\")\n",
    "#     image_clahe = apply_clahe(image_file, str(output_path), clip_limit=clip_limit)\n",
    "\n",
    "#     # Read the image\n",
    "#     image = cv2.imread(str(image_clahe))\n",
    "\n",
    "#     # # Get the image that contains the QR code\n",
    "#     # image = cv2.cvtColor(cv2.imread(image_file), cv2.COLOR_BGR2RGB)\n",
    "\n",
    "#     # Create a QReader instance\n",
    "#     qreader = QReader()\n",
    "\n",
    "#     # Use the detect_and_decode function to get the decoded QR data\n",
    "#     qr_codes_data = qreader.detect_and_decode(image=image)\n",
    "\n",
    "#     # Store the detected QR codes data in the dictionary\n",
    "#     qr_codes_per_image[image_file] = qr_codes_data\n",
    "#     print(f\"qr codes detected = {qr_codes_per_image}\")\n",
    "#     clip_limit += 1"
   ]
  },
  {
   "cell_type": "code",
   "execution_count": 9,
   "id": "ad247f57-09b6-4820-9a2d-41ace78ecadf",
   "metadata": {
    "tags": []
   },
   "outputs": [
    {
     "name": "stdout",
     "output_type": "stream",
     "text": [
      "Scanning images in '12.19.2023/iPhone 13 Images With Box App' for QR codes...\n",
      "Processing image: Image31340.jpg\n",
      "iPhone 13 Images With Box App\\Image31340.jpg\n"
     ]
    },
    {
     "ename": "TypeError",
     "evalue": "Can't convert object to 'str' for 'filename'",
     "output_type": "error",
     "traceback": [
      "\u001b[1;31m---------------------------------------------------------------------------\u001b[0m",
      "\u001b[1;31mTypeError\u001b[0m                                 Traceback (most recent call last)",
      "\u001b[1;32m~\\AppData\\Local\\Temp\\ipykernel_29128\\1571153043.py\u001b[0m in \u001b[0;36m<module>\u001b[1;34m\u001b[0m\n\u001b[0;32m      1\u001b[0m \u001b[0mfolder_path\u001b[0m \u001b[1;33m=\u001b[0m \u001b[1;34mr\"12.19.2023/iPhone 13 Images With Box App\"\u001b[0m\u001b[1;33m\u001b[0m\u001b[1;33m\u001b[0m\u001b[0m\n\u001b[1;32m----> 2\u001b[1;33m \u001b[0mresult\u001b[0m \u001b[1;33m=\u001b[0m \u001b[0mdetect_qr_codes_in_folder\u001b[0m\u001b[1;33m(\u001b[0m\u001b[0mfolder_path\u001b[0m\u001b[1;33m,\u001b[0m \u001b[1;34m\"iPhone 13 Images With Box App\"\u001b[0m\u001b[1;33m,\u001b[0m \u001b[1;36m12\u001b[0m\u001b[1;33m)\u001b[0m\u001b[1;33m\u001b[0m\u001b[1;33m\u001b[0m\u001b[0m\n\u001b[0m",
      "\u001b[1;32m~\\AppData\\Local\\Temp\\ipykernel_29128\\3258321316.py\u001b[0m in \u001b[0;36mdetect_qr_codes_in_folder\u001b[1;34m(folder_path, output_dir, clip_limit)\u001b[0m\n\u001b[0;32m     49\u001b[0m \u001b[1;33m\u001b[0m\u001b[0m\n\u001b[0;32m     50\u001b[0m             \u001b[1;31m# # Get the image that contains the QR code\u001b[0m\u001b[1;33m\u001b[0m\u001b[1;33m\u001b[0m\u001b[1;33m\u001b[0m\u001b[0m\n\u001b[1;32m---> 51\u001b[1;33m             \u001b[0mimage\u001b[0m \u001b[1;33m=\u001b[0m \u001b[0mcv2\u001b[0m\u001b[1;33m.\u001b[0m\u001b[0mcvtColor\u001b[0m\u001b[1;33m(\u001b[0m\u001b[0mcv2\u001b[0m\u001b[1;33m.\u001b[0m\u001b[0mimread\u001b[0m\u001b[1;33m(\u001b[0m\u001b[0mimage_file\u001b[0m\u001b[1;33m)\u001b[0m\u001b[1;33m,\u001b[0m \u001b[0mcv2\u001b[0m\u001b[1;33m.\u001b[0m\u001b[0mCOLOR_BGR2RGB\u001b[0m\u001b[1;33m)\u001b[0m\u001b[1;33m\u001b[0m\u001b[1;33m\u001b[0m\u001b[0m\n\u001b[0m\u001b[0;32m     52\u001b[0m \u001b[1;33m\u001b[0m\u001b[0m\n\u001b[0;32m     53\u001b[0m             \u001b[1;31m# Read the image\u001b[0m\u001b[1;33m\u001b[0m\u001b[1;33m\u001b[0m\u001b[1;33m\u001b[0m\u001b[0m\n",
      "\u001b[1;31mTypeError\u001b[0m: Can't convert object to 'str' for 'filename'"
     ]
    }
   ],
   "source": [
    "folder_path = r\"12.19.2023/iPhone 13 Images With Box App\"\n",
    "result = detect_qr_codes_in_folder(folder_path, \"iPhone 13 Images With Box App\", 12)"
   ]
  },
  {
   "cell_type": "code",
   "execution_count": null,
   "id": "8db75d84-e3c8-4e7d-a68f-235ff4327227",
   "metadata": {
    "tags": []
   },
   "outputs": [],
   "source": [
    "result"
   ]
  },
  {
   "cell_type": "code",
   "execution_count": null,
   "id": "85a9fc6a-1a26-45d5-bae7-d4ba9ba03d76",
   "metadata": {
    "tags": []
   },
   "outputs": [],
   "source": [
    "output_csv = r\"iPhone 13 Images With Box App.csv\"\n",
    "\n",
    "# Convert the dictionary to a list of dictionaries for DataFrame\n",
    "data = []\n",
    "for path, qr_codes in result.items():\n",
    "    row = {\n",
    "        'path': str(path),\n",
    "        'frame': path.stem,  # Gets the filename without extension\n",
    "        'qr_count': len(qr_codes),\n",
    "        'qr_codes': ', '.join([str(code) for code in qr_codes if code is not None])\n",
    "    }\n",
    "    data.append(row)\n",
    "\n",
    "# Create a DataFrame\n",
    "df = pd.DataFrame(data)\n",
    "\n",
    "# Save the DataFrame to a CSV file\n",
    "df.to_csv(output_csv, index=False)\n",
    "\n",
    "print(\"CSV file saved as output.csv\")"
   ]
  },
  {
   "cell_type": "code",
   "execution_count": null,
   "id": "b2711ad1-af52-40c7-81e5-b9b4a3988d73",
   "metadata": {},
   "outputs": [],
   "source": []
  }
 ],
 "metadata": {
  "kernelspec": {
   "display_name": "Python 3 (ipykernel)",
   "language": "python",
   "name": "python3"
  },
  "language_info": {
   "codemirror_mode": {
    "name": "ipython",
    "version": 3
   },
   "file_extension": ".py",
   "mimetype": "text/x-python",
   "name": "python",
   "nbconvert_exporter": "python",
   "pygments_lexer": "ipython3",
   "version": "3.7.12"
  }
 },
 "nbformat": 4,
 "nbformat_minor": 5
}
